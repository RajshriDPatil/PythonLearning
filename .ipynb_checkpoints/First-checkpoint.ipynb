{
 "cells": [
  {
   "cell_type": "code",
   "execution_count": 1,
   "id": "6f760971-3443-47c7-b12b-2c12a711deb8",
   "metadata": {},
   "outputs": [],
   "source": [
    "Name=\"Rajshri\"\n",
    "RollNO=2425"
   ]
  },
  {
   "cell_type": "code",
   "execution_count": 3,
   "id": "3575e3f9-5ffd-4eda-ab4b-f343c42eb5cc",
   "metadata": {},
   "outputs": [
    {
     "data": {
      "text/plain": [
       "5880625"
      ]
     },
     "execution_count": 3,
     "metadata": {},
     "output_type": "execute_result"
    }
   ],
   "source": [
    "RollNO**2"
   ]
  },
  {
   "cell_type": "code",
   "execution_count": null,
   "id": "b5adcc92-d737-4700-8c35-9392b0a85aa7",
   "metadata": {},
   "outputs": [],
   "source": []
  }
 ],
 "metadata": {
  "kernelspec": {
   "display_name": "Python 3 (ipykernel)",
   "language": "python",
   "name": "python3"
  },
  "language_info": {
   "codemirror_mode": {
    "name": "ipython",
    "version": 3
   },
   "file_extension": ".py",
   "mimetype": "text/x-python",
   "name": "python",
   "nbconvert_exporter": "python",
   "pygments_lexer": "ipython3",
   "version": "3.13.1"
  }
 },
 "nbformat": 4,
 "nbformat_minor": 5
}
